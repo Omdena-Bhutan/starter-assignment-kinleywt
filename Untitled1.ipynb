{
  "nbformat": 4,
  "nbformat_minor": 0,
  "metadata": {
    "colab": {
      "provenance": [],
      "authorship_tag": "ABX9TyPDiYeXWosK7WhVBevsNo3/",
      "include_colab_link": true
    },
    "kernelspec": {
      "name": "python3",
      "display_name": "Python 3"
    },
    "language_info": {
      "name": "python"
    }
  },
  "cells": [
    {
      "cell_type": "markdown",
      "metadata": {
        "id": "view-in-github",
        "colab_type": "text"
      },
      "source": [
        "<a href=\"https://colab.research.google.com/github/Omdena-Bhutan/starter-assignment-kinleywt/blob/main/Untitled1.ipynb\" target=\"_parent\"><img src=\"https://colab.research.google.com/assets/colab-badge.svg\" alt=\"Open In Colab\"/></a>"
      ]
    },
    {
      "cell_type": "code",
      "execution_count": 5,
      "metadata": {
        "id": "G1OxR1JT6s77"
      },
      "outputs": [],
      "source": [
        "base_stats = (10, 8, 12)"
      ]
    },
    {
      "cell_type": "code",
      "source": [
        "# Access and print intelligence\n",
        "intelligence = base_stats[2]\n",
        "print(f\"Intelligence is : {intelligence}\")"
      ],
      "metadata": {
        "colab": {
          "base_uri": "https://localhost:8080/"
        },
        "id": "UzBlJBv8601i",
        "outputId": "dd99a679-5443-4371-90f2-a30f959f2e95"
      },
      "execution_count": 6,
      "outputs": [
        {
          "output_type": "stream",
          "name": "stdout",
          "text": [
            "Intelligence is : 12\n"
          ]
        }
      ]
    },
    {
      "cell_type": "code",
      "source": [
        "#Access and try modify and look at the error\n",
        "try:\n",
        "  base_stats[0] = 15\n",
        "  print(\"Success: Strength changed to 15 \") # this line will not be executed\n",
        "except TypeError as error:\n",
        "  print(f\"Error Occurred: {error}\")"
      ],
      "metadata": {
        "colab": {
          "base_uri": "https://localhost:8080/"
        },
        "id": "S0fqyvRW72m-",
        "outputId": "2e3de7dc-c3ca-4230-8e3a-a2aebd898bb3"
      },
      "execution_count": 7,
      "outputs": [
        {
          "output_type": "stream",
          "name": "stdout",
          "text": [
            "Error Occurred: 'tuple' object does not support item assignment\n"
          ]
        }
      ]
    }
  ]
}