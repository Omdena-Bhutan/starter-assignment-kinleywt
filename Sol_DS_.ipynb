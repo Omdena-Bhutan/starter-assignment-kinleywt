{
  "nbformat": 4,
  "nbformat_minor": 0,
  "metadata": {
    "colab": {
      "provenance": [],
      "authorship_tag": "ABX9TyPzOs/8SycqfHM5ZlpN6Ie+",
      "include_colab_link": true
    },
    "kernelspec": {
      "name": "python3",
      "display_name": "Python 3"
    },
    "language_info": {
      "name": "python"
    }
  },
  "cells": [
    {
      "cell_type": "markdown",
      "metadata": {
        "id": "view-in-github",
        "colab_type": "text"
      },
      "source": [
        "<a href=\"https://colab.research.google.com/github/Omdena-Bhutan/starter-assignment-kinleywt/blob/main/Sol_DS_.ipynb\" target=\"_parent\"><img src=\"https://colab.research.google.com/assets/colab-badge.svg\" alt=\"Open In Colab\"/></a>"
      ]
    },
    {
      "cell_type": "code",
      "execution_count": 3,
      "metadata": {
        "id": "5pUA4UcF2cll"
      },
      "outputs": [],
      "source": [
        "# Create character profile Using dictionaries and basic data types\n",
        "character_profile = {\n",
        "    'name' : \"Alistair the Brave\",\n",
        "    'level' : 1,\n",
        "    'health' : 100,\n",
        "    'mana' : 50,\n",
        "    'gold' : 50.75,\n",
        "    'is alive' : True\n",
        "}"
      ]
    },
    {
      "cell_type": "code",
      "source": [
        "# print the character\n",
        "print(f\"character: {character_profile['name']}, Level: {character_profile['level']}\")"
      ],
      "metadata": {
        "colab": {
          "base_uri": "https://localhost:8080/"
        },
        "id": "yLUPVBbO3ntt",
        "outputId": "5e026d8c-5f8b-43d4-8ce8-cc01ba8fb413"
      },
      "execution_count": 5,
      "outputs": [
        {
          "output_type": "stream",
          "name": "stdout",
          "text": [
            "character: Alistair the Brave, Level: 1\n"
          ]
        }
      ]
    },
    {
      "cell_type": "code",
      "source": [
        "#update the health to as\n",
        "character_profile['health'] = 85\n",
        "print(f\"Health Updated to: {character_profile['health']}\")"
      ],
      "metadata": {
        "colab": {
          "base_uri": "https://localhost:8080/"
        },
        "id": "L2QMkGjM3qcn",
        "outputId": "6de5398f-ebe0-4d4f-8e29-a1ea4646a7ac"
      },
      "execution_count": 7,
      "outputs": [
        {
          "output_type": "stream",
          "name": "stdout",
          "text": [
            "Health Updated to: 85\n"
          ]
        }
      ]
    },
    {
      "cell_type": "code",
      "source": [
        "# Add a new key-value pair for experience\n",
        "character_profile"
      ],
      "metadata": {
        "colab": {
          "base_uri": "https://localhost:8080/"
        },
        "id": "MVT9Mt0F4FWD",
        "outputId": "caa59263-e746-446c-c59b-d2f369aa5598"
      },
      "execution_count": 8,
      "outputs": [
        {
          "output_type": "execute_result",
          "data": {
            "text/plain": [
              "{'name': 'Alistair the Brave',\n",
              " 'level': 1,\n",
              " 'health': 85,\n",
              " 'mana': 50,\n",
              " 'gold': 50.75,\n",
              " 'is alive': True}"
            ]
          },
          "metadata": {},
          "execution_count": 8
        }
      ]
    }
  ]
}